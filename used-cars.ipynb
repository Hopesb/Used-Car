{
 "cells": [
  {
   "cell_type": "markdown",
   "id": "aa892a2b",
   "metadata": {
    "papermill": {
     "duration": 0.006895,
     "end_time": "2024-10-06T11:49:49.676056",
     "exception": false,
     "start_time": "2024-10-06T11:49:49.669161",
     "status": "completed"
    },
    "tags": []
   },
   "source": [
    "Your Goal: The goal of this competition is to predict the price of used cars based on various attributes.\n",
    "\n",
    "Root Mean Squared Error (RMSE)\n",
    "Submissions are scored on the root mean squared error. RMSE is defined as:\n",
    "\n",
    "RMSE=(1N∑i=1N(yi−yˆi)2)12\n",
    "\n",
    "where yˆi\n",
    " is the predicted value and yi\n",
    " is the original value for each instance i\n",
    ".\n",
    "\n",
    "Submission File\n",
    "For each id in the test set, you must predict the price of the car. The file should contain a header and have the following format:"
   ]
  },
  {
   "cell_type": "markdown",
   "id": "4c703469",
   "metadata": {
    "papermill": {
     "duration": 0.005762,
     "end_time": "2024-10-06T11:49:49.687936",
     "exception": false,
     "start_time": "2024-10-06T11:49:49.682174",
     "status": "completed"
    },
    "tags": []
   },
   "source": [
    "## Import and Load Data."
   ]
  },
  {
   "cell_type": "code",
   "execution_count": 1,
   "id": "204c3c90",
   "metadata": {
    "execution": {
     "iopub.execute_input": "2024-10-06T11:49:49.701447Z",
     "iopub.status.busy": "2024-10-06T11:49:49.701064Z",
     "iopub.status.idle": "2024-10-06T11:49:54.683079Z",
     "shell.execute_reply": "2024-10-06T11:49:54.682207Z"
    },
    "papermill": {
     "duration": 4.991731,
     "end_time": "2024-10-06T11:49:54.685532",
     "exception": false,
     "start_time": "2024-10-06T11:49:49.693801",
     "status": "completed"
    },
    "tags": []
   },
   "outputs": [],
   "source": [
    "# import libraries.\n",
    "import pandas as pd\n",
    "import numpy as np\n",
    "\n",
    "import matplotlib.pyplot as plt\n",
    "import seaborn as sns\n",
    "import plotly_express as px\n",
    "\n",
    "from xgboost import XGBRegressor\n",
    "from catboost import CatBoostRegressor\n",
    "from lightgbm import LGBMRegressor\n",
    "from sklearn.ensemble import VotingRegressor\n",
    "from sklearn.metrics import mean_squared_error # Remember to take the root of the result.\n",
    "from category_encoders import OneHotEncoder, OrdinalEncoder\n",
    "from sklearn.impute import SimpleImputer\n",
    "from sklearn.model_selection import train_test_split\n",
    "from sklearn.cluster import KMeans\n",
    "from sklearn.preprocessing import StandardScaler, MinMaxScaler\n",
    "from sklearn.pipeline import make_pipeline\n",
    "import optuna"
   ]
  },
  {
   "cell_type": "code",
   "execution_count": 2,
   "id": "e3d7b569",
   "metadata": {
    "execution": {
     "iopub.execute_input": "2024-10-06T11:49:54.700257Z",
     "iopub.status.busy": "2024-10-06T11:49:54.699623Z",
     "iopub.status.idle": "2024-10-06T11:49:54.711356Z",
     "shell.execute_reply": "2024-10-06T11:49:54.710411Z"
    },
    "papermill": {
     "duration": 0.021285,
     "end_time": "2024-10-06T11:49:54.713286",
     "exception": false,
     "start_time": "2024-10-06T11:49:54.692001",
     "status": "completed"
    },
    "tags": []
   },
   "outputs": [],
   "source": [
    "# Building a function that preprocess the data.\n",
    "def wrangle(filepath):\n",
    "    \n",
    "    # read file to dataframe.\n",
    "    df = pd.read_csv(filepath, index_col=\"id\")\n",
    "    \n",
    "    # Dropping the clean_title column.\n",
    "    df = df.drop(columns=[\"clean_title\"])\n",
    "    \n",
    "    # interior color\n",
    "    df[\"int_col\"]= df[\"int_col\"].str.lower().str.split(\"[/,  ]\").apply(lambda x: x[-1])\n",
    "    \n",
    "    # exterior color.\n",
    "    df[\"ext_col\"] = df[\"ext_col\"].str.lower().str.split(\"[/, -,  ]\").apply(lambda x: x[-1])\n",
    "    \n",
    "    # Creating new features.\n",
    "    df[\"hp\"] = df[\"engine\"].str.lower().str.split(\"hp\").apply(lambda x: np.nan if len(x) == 1 else x[0])\n",
    "    # convert the hp column to an intger datatype.\n",
    "    df[\"hp\"] = df[\"hp\"].astype(float)\n",
    "    # getting the cylinder engine.\n",
    "    df[\"cylinder_engine\"] = df[\"engine\"].str.split().apply(lambda x: \n",
    "                               next((\n",
    "                                   value for value in x if isinstance(value, str) and value.isdigit()),\n",
    "                                   np.nan)\n",
    "                              )\n",
    "    df[\"cylinder_engine\"] = df[\"cylinder_engine\"].astype(float)\n",
    "    df.loc[df[\"cylinder_engine\"] == 120, \"cylinder_engine\"] = np.nan\n",
    "    # getting the len of description of the engine.\n",
    "    df[\"des_lenght\"] = df[\"engine\"].str.split().apply(lambda x: len(x))\n",
    "    \n",
    "    df.loc[df[\"transmission\"] == \"A/T\", \"transmission\"] = \"Automatic\"\n",
    "    \n",
    "    # Get the fuel-type from the engine information.\n",
    "    engine_fuel = df[\"engine\"].str.lower().str.split(\"cylinder engine\").apply(lambda x: np.nan if len(x) == 1 else x[-1]).str.strip()#.value_counts()\n",
    "    \n",
    "    # Fill the engine-fuel to the fuel_type column.\n",
    "    df[\"fuel_type\"] = df[\"fuel_type\"].str.lower().fillna(engine_fuel)\n",
    "    \n",
    "    df[\"transmission\"] = df[\"transmission\"].str.lower().str.replace(\"a/t\", \"automatic\").str.replace(\"at$\", \"automatic\", regex=True)\n",
    "    \n",
    "    # Dealing with the inconsistence in the data.\n",
    "    # changing the e85 flex fuel to flex.\n",
    "    df.loc[df[\"fuel_type\"] == \"e85 flex fuel\", \"fuel_type\"] = \"flex\"\n",
    "    df.loc[df[\"fuel_type\"] == \"diesel fuel\", \"fuel_type\"] = \"diesel\"\n",
    "    df.loc[df[\"fuel_type\"] == \"gasoline fuel\", \"fuel_type\"] = \"gasoline\"\n",
    "    df.loc[df[\"fuel_type\"] == \"flex fuel capability\", \"fuel_type\"] = \"flex\"\n",
    "    \n",
    "    \n",
    "    return df"
   ]
  },
  {
   "cell_type": "code",
   "execution_count": 3,
   "id": "f73a6dce",
   "metadata": {
    "execution": {
     "iopub.execute_input": "2024-10-06T11:49:54.727464Z",
     "iopub.status.busy": "2024-10-06T11:49:54.726852Z",
     "iopub.status.idle": "2024-10-06T11:49:59.371538Z",
     "shell.execute_reply": "2024-10-06T11:49:59.370564Z"
    },
    "papermill": {
     "duration": 4.654366,
     "end_time": "2024-10-06T11:49:59.373530",
     "exception": false,
     "start_time": "2024-10-06T11:49:54.719164",
     "status": "completed"
    },
    "tags": []
   },
   "outputs": [
    {
     "data": {
      "text/html": [
       "<div>\n",
       "<style scoped>\n",
       "    .dataframe tbody tr th:only-of-type {\n",
       "        vertical-align: middle;\n",
       "    }\n",
       "\n",
       "    .dataframe tbody tr th {\n",
       "        vertical-align: top;\n",
       "    }\n",
       "\n",
       "    .dataframe thead th {\n",
       "        text-align: right;\n",
       "    }\n",
       "</style>\n",
       "<table border=\"1\" class=\"dataframe\">\n",
       "  <thead>\n",
       "    <tr style=\"text-align: right;\">\n",
       "      <th></th>\n",
       "      <th>brand</th>\n",
       "      <th>model</th>\n",
       "      <th>model_year</th>\n",
       "      <th>milage</th>\n",
       "      <th>fuel_type</th>\n",
       "      <th>engine</th>\n",
       "      <th>transmission</th>\n",
       "      <th>ext_col</th>\n",
       "      <th>int_col</th>\n",
       "      <th>accident</th>\n",
       "      <th>price</th>\n",
       "      <th>hp</th>\n",
       "      <th>cylinder_engine</th>\n",
       "      <th>des_lenght</th>\n",
       "    </tr>\n",
       "    <tr>\n",
       "      <th>id</th>\n",
       "      <th></th>\n",
       "      <th></th>\n",
       "      <th></th>\n",
       "      <th></th>\n",
       "      <th></th>\n",
       "      <th></th>\n",
       "      <th></th>\n",
       "      <th></th>\n",
       "      <th></th>\n",
       "      <th></th>\n",
       "      <th></th>\n",
       "      <th></th>\n",
       "      <th></th>\n",
       "      <th></th>\n",
       "    </tr>\n",
       "  </thead>\n",
       "  <tbody>\n",
       "    <tr>\n",
       "      <th>0</th>\n",
       "      <td>MINI</td>\n",
       "      <td>Cooper S Base</td>\n",
       "      <td>2007</td>\n",
       "      <td>213000</td>\n",
       "      <td>gasoline</td>\n",
       "      <td>172.0HP 1.6L 4 Cylinder Engine Gasoline Fuel</td>\n",
       "      <td>automatic</td>\n",
       "      <td>yellow</td>\n",
       "      <td>gray</td>\n",
       "      <td>None reported</td>\n",
       "      <td>4200</td>\n",
       "      <td>172.0</td>\n",
       "      <td>4.0</td>\n",
       "      <td>7</td>\n",
       "    </tr>\n",
       "    <tr>\n",
       "      <th>1</th>\n",
       "      <td>Lincoln</td>\n",
       "      <td>LS V8</td>\n",
       "      <td>2002</td>\n",
       "      <td>143250</td>\n",
       "      <td>gasoline</td>\n",
       "      <td>252.0HP 3.9L 8 Cylinder Engine Gasoline Fuel</td>\n",
       "      <td>automatic</td>\n",
       "      <td>silver</td>\n",
       "      <td>beige</td>\n",
       "      <td>At least 1 accident or damage reported</td>\n",
       "      <td>4999</td>\n",
       "      <td>252.0</td>\n",
       "      <td>8.0</td>\n",
       "      <td>7</td>\n",
       "    </tr>\n",
       "    <tr>\n",
       "      <th>2</th>\n",
       "      <td>Chevrolet</td>\n",
       "      <td>Silverado 2500 LT</td>\n",
       "      <td>2002</td>\n",
       "      <td>136731</td>\n",
       "      <td>flex</td>\n",
       "      <td>320.0HP 5.3L 8 Cylinder Engine Flex Fuel Capab...</td>\n",
       "      <td>automatic</td>\n",
       "      <td>blue</td>\n",
       "      <td>gray</td>\n",
       "      <td>None reported</td>\n",
       "      <td>13900</td>\n",
       "      <td>320.0</td>\n",
       "      <td>8.0</td>\n",
       "      <td>8</td>\n",
       "    </tr>\n",
       "    <tr>\n",
       "      <th>3</th>\n",
       "      <td>Genesis</td>\n",
       "      <td>G90 5.0 Ultimate</td>\n",
       "      <td>2017</td>\n",
       "      <td>19500</td>\n",
       "      <td>gasoline</td>\n",
       "      <td>420.0HP 5.0L 8 Cylinder Engine Gasoline Fuel</td>\n",
       "      <td>transmission w/dual shift mode</td>\n",
       "      <td>black</td>\n",
       "      <td>black</td>\n",
       "      <td>None reported</td>\n",
       "      <td>45000</td>\n",
       "      <td>420.0</td>\n",
       "      <td>8.0</td>\n",
       "      <td>7</td>\n",
       "    </tr>\n",
       "    <tr>\n",
       "      <th>4</th>\n",
       "      <td>Mercedes-Benz</td>\n",
       "      <td>Metris Base</td>\n",
       "      <td>2021</td>\n",
       "      <td>7388</td>\n",
       "      <td>gasoline</td>\n",
       "      <td>208.0HP 2.0L 4 Cylinder Engine Gasoline Fuel</td>\n",
       "      <td>7-speed automatic</td>\n",
       "      <td>black</td>\n",
       "      <td>beige</td>\n",
       "      <td>None reported</td>\n",
       "      <td>97500</td>\n",
       "      <td>208.0</td>\n",
       "      <td>4.0</td>\n",
       "      <td>7</td>\n",
       "    </tr>\n",
       "  </tbody>\n",
       "</table>\n",
       "</div>"
      ],
      "text/plain": [
       "            brand              model  model_year  milage fuel_type  \\\n",
       "id                                                                   \n",
       "0            MINI      Cooper S Base        2007  213000  gasoline   \n",
       "1         Lincoln              LS V8        2002  143250  gasoline   \n",
       "2       Chevrolet  Silverado 2500 LT        2002  136731      flex   \n",
       "3         Genesis   G90 5.0 Ultimate        2017   19500  gasoline   \n",
       "4   Mercedes-Benz        Metris Base        2021    7388  gasoline   \n",
       "\n",
       "                                               engine  \\\n",
       "id                                                      \n",
       "0        172.0HP 1.6L 4 Cylinder Engine Gasoline Fuel   \n",
       "1        252.0HP 3.9L 8 Cylinder Engine Gasoline Fuel   \n",
       "2   320.0HP 5.3L 8 Cylinder Engine Flex Fuel Capab...   \n",
       "3        420.0HP 5.0L 8 Cylinder Engine Gasoline Fuel   \n",
       "4        208.0HP 2.0L 4 Cylinder Engine Gasoline Fuel   \n",
       "\n",
       "                      transmission ext_col int_col  \\\n",
       "id                                                   \n",
       "0                        automatic  yellow    gray   \n",
       "1                        automatic  silver   beige   \n",
       "2                        automatic    blue    gray   \n",
       "3   transmission w/dual shift mode   black   black   \n",
       "4                7-speed automatic   black   beige   \n",
       "\n",
       "                                  accident  price     hp  cylinder_engine  \\\n",
       "id                                                                          \n",
       "0                            None reported   4200  172.0              4.0   \n",
       "1   At least 1 accident or damage reported   4999  252.0              8.0   \n",
       "2                            None reported  13900  320.0              8.0   \n",
       "3                            None reported  45000  420.0              8.0   \n",
       "4                            None reported  97500  208.0              4.0   \n",
       "\n",
       "    des_lenght  \n",
       "id              \n",
       "0            7  \n",
       "1            7  \n",
       "2            8  \n",
       "3            7  \n",
       "4            7  "
      ]
     },
     "execution_count": 3,
     "metadata": {},
     "output_type": "execute_result"
    }
   ],
   "source": [
    "filepath = \"/kaggle/input/playground-series-s4e9/train.csv\"\n",
    "df = wrangle(filepath)\n",
    "df.head()"
   ]
  },
  {
   "cell_type": "code",
   "execution_count": 4,
   "id": "3a9fca26",
   "metadata": {
    "execution": {
     "iopub.execute_input": "2024-10-06T11:49:59.387634Z",
     "iopub.status.busy": "2024-10-06T11:49:59.387286Z",
     "iopub.status.idle": "2024-10-06T11:49:59.478853Z",
     "shell.execute_reply": "2024-10-06T11:49:59.477797Z"
    },
    "papermill": {
     "duration": 0.101057,
     "end_time": "2024-10-06T11:49:59.481004",
     "exception": false,
     "start_time": "2024-10-06T11:49:59.379947",
     "status": "completed"
    },
    "tags": []
   },
   "outputs": [
    {
     "name": "stdout",
     "output_type": "stream",
     "text": [
      "<class 'pandas.core.frame.DataFrame'>\n",
      "Index: 188533 entries, 0 to 188532\n",
      "Data columns (total 14 columns):\n",
      " #   Column           Non-Null Count   Dtype  \n",
      "---  ------           --------------   -----  \n",
      " 0   brand            188533 non-null  object \n",
      " 1   model            188533 non-null  object \n",
      " 2   model_year       188533 non-null  int64  \n",
      " 3   milage           188533 non-null  int64  \n",
      " 4   fuel_type        183501 non-null  object \n",
      " 5   engine           188533 non-null  object \n",
      " 6   transmission     188533 non-null  object \n",
      " 7   ext_col          188533 non-null  object \n",
      " 8   int_col          188533 non-null  object \n",
      " 9   accident         186081 non-null  object \n",
      " 10  price            188533 non-null  int64  \n",
      " 11  hp               155274 non-null  float64\n",
      " 12  cylinder_engine  101361 non-null  float64\n",
      " 13  des_lenght       188533 non-null  int64  \n",
      "dtypes: float64(2), int64(4), object(8)\n",
      "memory usage: 21.6+ MB\n"
     ]
    }
   ],
   "source": [
    "df.info()"
   ]
  },
  {
   "cell_type": "code",
   "execution_count": 5,
   "id": "4cd8ae3e",
   "metadata": {
    "execution": {
     "iopub.execute_input": "2024-10-06T11:49:59.495910Z",
     "iopub.status.busy": "2024-10-06T11:49:59.495105Z",
     "iopub.status.idle": "2024-10-06T11:49:59.501408Z",
     "shell.execute_reply": "2024-10-06T11:49:59.500499Z"
    },
    "papermill": {
     "duration": 0.015732,
     "end_time": "2024-10-06T11:49:59.503338",
     "exception": false,
     "start_time": "2024-10-06T11:49:59.487606",
     "status": "completed"
    },
    "tags": []
   },
   "outputs": [
    {
     "data": {
      "text/plain": [
       "(188533, 14)"
      ]
     },
     "execution_count": 5,
     "metadata": {},
     "output_type": "execute_result"
    }
   ],
   "source": [
    "df.shape"
   ]
  },
  {
   "cell_type": "code",
   "execution_count": 6,
   "id": "f425d578",
   "metadata": {
    "execution": {
     "iopub.execute_input": "2024-10-06T11:49:59.517390Z",
     "iopub.status.busy": "2024-10-06T11:49:59.517056Z",
     "iopub.status.idle": "2024-10-06T11:49:59.598678Z",
     "shell.execute_reply": "2024-10-06T11:49:59.597681Z"
    },
    "papermill": {
     "duration": 0.09089,
     "end_time": "2024-10-06T11:49:59.600706",
     "exception": false,
     "start_time": "2024-10-06T11:49:59.509816",
     "status": "completed"
    },
    "tags": []
   },
   "outputs": [
    {
     "data": {
      "text/plain": [
       "brand                  0\n",
       "model                  0\n",
       "model_year             0\n",
       "milage                 0\n",
       "fuel_type           5032\n",
       "engine                 0\n",
       "transmission           0\n",
       "ext_col                0\n",
       "int_col                0\n",
       "accident            2452\n",
       "price                  0\n",
       "hp                 33259\n",
       "cylinder_engine    87172\n",
       "des_lenght             0\n",
       "dtype: int64"
      ]
     },
     "execution_count": 6,
     "metadata": {},
     "output_type": "execute_result"
    }
   ],
   "source": [
    "df.isnull().sum()"
   ]
  },
  {
   "cell_type": "code",
   "execution_count": 7,
   "id": "4f34a7c6",
   "metadata": {
    "execution": {
     "iopub.execute_input": "2024-10-06T11:49:59.615928Z",
     "iopub.status.busy": "2024-10-06T11:49:59.615108Z",
     "iopub.status.idle": "2024-10-06T11:49:59.694883Z",
     "shell.execute_reply": "2024-10-06T11:49:59.693924Z"
    },
    "papermill": {
     "duration": 0.089611,
     "end_time": "2024-10-06T11:49:59.697048",
     "exception": false,
     "start_time": "2024-10-06T11:49:59.607437",
     "status": "completed"
    },
    "tags": []
   },
   "outputs": [
    {
     "data": {
      "text/html": [
       "<div>\n",
       "<style scoped>\n",
       "    .dataframe tbody tr th:only-of-type {\n",
       "        vertical-align: middle;\n",
       "    }\n",
       "\n",
       "    .dataframe tbody tr th {\n",
       "        vertical-align: top;\n",
       "    }\n",
       "\n",
       "    .dataframe thead th {\n",
       "        text-align: right;\n",
       "    }\n",
       "</style>\n",
       "<table border=\"1\" class=\"dataframe\">\n",
       "  <thead>\n",
       "    <tr style=\"text-align: right;\">\n",
       "      <th></th>\n",
       "      <th>model_year</th>\n",
       "      <th>milage</th>\n",
       "      <th>price</th>\n",
       "      <th>hp</th>\n",
       "      <th>cylinder_engine</th>\n",
       "      <th>des_lenght</th>\n",
       "    </tr>\n",
       "  </thead>\n",
       "  <tbody>\n",
       "    <tr>\n",
       "      <th>count</th>\n",
       "      <td>188533.000000</td>\n",
       "      <td>188533.000000</td>\n",
       "      <td>1.885330e+05</td>\n",
       "      <td>155274.000000</td>\n",
       "      <td>101361.000000</td>\n",
       "      <td>188533.000000</td>\n",
       "    </tr>\n",
       "    <tr>\n",
       "      <th>mean</th>\n",
       "      <td>2015.829998</td>\n",
       "      <td>65705.295174</td>\n",
       "      <td>4.387802e+04</td>\n",
       "      <td>343.263856</td>\n",
       "      <td>6.556368</td>\n",
       "      <td>6.733394</td>\n",
       "    </tr>\n",
       "    <tr>\n",
       "      <th>std</th>\n",
       "      <td>5.660967</td>\n",
       "      <td>49798.158076</td>\n",
       "      <td>7.881952e+04</td>\n",
       "      <td>114.734210</td>\n",
       "      <td>1.868492</td>\n",
       "      <td>1.207792</td>\n",
       "    </tr>\n",
       "    <tr>\n",
       "      <th>min</th>\n",
       "      <td>1974.000000</td>\n",
       "      <td>100.000000</td>\n",
       "      <td>2.000000e+03</td>\n",
       "      <td>70.000000</td>\n",
       "      <td>3.000000</td>\n",
       "      <td>1.000000</td>\n",
       "    </tr>\n",
       "    <tr>\n",
       "      <th>25%</th>\n",
       "      <td>2013.000000</td>\n",
       "      <td>24115.000000</td>\n",
       "      <td>1.700000e+04</td>\n",
       "      <td>263.000000</td>\n",
       "      <td>4.000000</td>\n",
       "      <td>7.000000</td>\n",
       "    </tr>\n",
       "    <tr>\n",
       "      <th>50%</th>\n",
       "      <td>2017.000000</td>\n",
       "      <td>57785.000000</td>\n",
       "      <td>3.082500e+04</td>\n",
       "      <td>329.000000</td>\n",
       "      <td>8.000000</td>\n",
       "      <td>7.000000</td>\n",
       "    </tr>\n",
       "    <tr>\n",
       "      <th>75%</th>\n",
       "      <td>2020.000000</td>\n",
       "      <td>95400.000000</td>\n",
       "      <td>4.990000e+04</td>\n",
       "      <td>416.000000</td>\n",
       "      <td>8.000000</td>\n",
       "      <td>7.000000</td>\n",
       "    </tr>\n",
       "    <tr>\n",
       "      <th>max</th>\n",
       "      <td>2024.000000</td>\n",
       "      <td>405000.000000</td>\n",
       "      <td>2.954083e+06</td>\n",
       "      <td>1020.000000</td>\n",
       "      <td>12.000000</td>\n",
       "      <td>9.000000</td>\n",
       "    </tr>\n",
       "  </tbody>\n",
       "</table>\n",
       "</div>"
      ],
      "text/plain": [
       "          model_year         milage         price             hp  \\\n",
       "count  188533.000000  188533.000000  1.885330e+05  155274.000000   \n",
       "mean     2015.829998   65705.295174  4.387802e+04     343.263856   \n",
       "std         5.660967   49798.158076  7.881952e+04     114.734210   \n",
       "min      1974.000000     100.000000  2.000000e+03      70.000000   \n",
       "25%      2013.000000   24115.000000  1.700000e+04     263.000000   \n",
       "50%      2017.000000   57785.000000  3.082500e+04     329.000000   \n",
       "75%      2020.000000   95400.000000  4.990000e+04     416.000000   \n",
       "max      2024.000000  405000.000000  2.954083e+06    1020.000000   \n",
       "\n",
       "       cylinder_engine     des_lenght  \n",
       "count    101361.000000  188533.000000  \n",
       "mean          6.556368       6.733394  \n",
       "std           1.868492       1.207792  \n",
       "min           3.000000       1.000000  \n",
       "25%           4.000000       7.000000  \n",
       "50%           8.000000       7.000000  \n",
       "75%           8.000000       7.000000  \n",
       "max          12.000000       9.000000  "
      ]
     },
     "execution_count": 7,
     "metadata": {},
     "output_type": "execute_result"
    }
   ],
   "source": [
    "df.describe()"
   ]
  },
  {
   "cell_type": "code",
   "execution_count": 8,
   "id": "cf16c1a1",
   "metadata": {
    "execution": {
     "iopub.execute_input": "2024-10-06T11:49:59.712563Z",
     "iopub.status.busy": "2024-10-06T11:49:59.712012Z",
     "iopub.status.idle": "2024-10-06T11:49:59.845761Z",
     "shell.execute_reply": "2024-10-06T11:49:59.844769Z"
    },
    "papermill": {
     "duration": 0.14374,
     "end_time": "2024-10-06T11:49:59.847861",
     "exception": false,
     "start_time": "2024-10-06T11:49:59.704121",
     "status": "completed"
    },
    "tags": []
   },
   "outputs": [
    {
     "data": {
      "text/plain": [
       "accident              2\n",
       "cylinder_engine       7\n",
       "fuel_type             9\n",
       "des_lenght            9\n",
       "model_year           34\n",
       "transmission         40\n",
       "brand                57\n",
       "ext_col              73\n",
       "int_col              83\n",
       "hp                  348\n",
       "engine             1117\n",
       "price              1569\n",
       "model              1897\n",
       "milage             6651\n",
       "dtype: int64"
      ]
     },
     "execution_count": 8,
     "metadata": {},
     "output_type": "execute_result"
    }
   ],
   "source": [
    "df.nunique().sort_values() # the clean_title contain only a value through out the dataset."
   ]
  },
  {
   "cell_type": "markdown",
   "id": "08c09be1",
   "metadata": {
    "papermill": {
     "duration": 0.006679,
     "end_time": "2024-10-06T11:49:59.861746",
     "exception": false,
     "start_time": "2024-10-06T11:49:59.855067",
     "status": "completed"
    },
    "tags": []
   },
   "source": [
    "## EDA"
   ]
  },
  {
   "cell_type": "code",
   "execution_count": 9,
   "id": "8f4d232e",
   "metadata": {
    "execution": {
     "iopub.execute_input": "2024-10-06T11:49:59.876699Z",
     "iopub.status.busy": "2024-10-06T11:49:59.876316Z",
     "iopub.status.idle": "2024-10-06T11:50:00.223774Z",
     "shell.execute_reply": "2024-10-06T11:50:00.222730Z"
    },
    "papermill": {
     "duration": 0.357555,
     "end_time": "2024-10-06T11:50:00.226065",
     "exception": false,
     "start_time": "2024-10-06T11:49:59.868510",
     "status": "completed"
    },
    "tags": []
   },
   "outputs": [
    {
     "data": {
      "image/png": "[encoded data removed]",
      "text/plain": [
       "<Figure size 640x480 with 1 Axes>"
      ]
     },
     "metadata": {},
     "output_type": "display_data"
    }
   ],
   "source": [
    "n_top = 10\n",
    "brand_price = df[\"price\"].groupby(df[\"brand\"]).mean()\n",
    "brand_price.sort_values().tail(n_top).plot(kind=\"barh\")\n",
    "plt.ylabel(\"Car Brand\")\n",
    "plt.xlabel(\"Mean Price\")\n",
    "plt.title(\"Mean Price By Brand\");"
   ]
  },
  {
   "cell_type": "code",
   "execution_count": 10,
   "id": "516904d5",
   "metadata": {
    "execution": {
     "iopub.execute_input": "2024-10-06T11:50:00.242468Z",
     "iopub.status.busy": "2024-10-06T11:50:00.242125Z",
     "iopub.status.idle": "2024-10-06T11:50:00.547737Z",
     "shell.execute_reply": "2024-10-06T11:50:00.546557Z"
    },
    "papermill": {
     "duration": 0.316379,
     "end_time": "2024-10-06T11:50:00.550184",
     "exception": false,
     "start_time": "2024-10-06T11:50:00.233805",
     "status": "completed"
    },
    "tags": []
   },
   "outputs": [
    {
     "data": {
      "image/png": "[encoded data removed]",
      "text/plain": [
       "<Figure size 640x480 with 1 Axes>"
      ]
     },
     "metadata": {},
     "output_type": "display_data"
    }
   ],
   "source": [
    "df[\"price\"].groupby(df[\"fuel_type\"]).mean().sort_values().tail(10).plot(kind=\"barh\")\n",
    "plt.ylabel(\"Fuel\")\n",
    "plt.xlabel(\"Mean Price\")\n",
    "plt.title(\"Mean Price By Fuel\");"
   ]
  },
  {
   "cell_type": "code",
   "execution_count": 11,
   "id": "82e5d65c",
   "metadata": {
    "execution": {
     "iopub.execute_input": "2024-10-06T11:50:00.568058Z",
     "iopub.status.busy": "2024-10-06T11:50:00.567689Z",
     "iopub.status.idle": "2024-10-06T11:50:00.876917Z",
     "shell.execute_reply": "2024-10-06T11:50:00.875972Z"
    },
    "papermill": {
     "duration": 0.32077,
     "end_time": "2024-10-06T11:50:00.879177",
     "exception": false,
     "start_time": "2024-10-06T11:50:00.558407",
     "status": "completed"
    },
    "tags": []
   },
   "outputs": [
    {
     "data": {
      "image/png": "[encoded data removed]",
      "text/plain": [
       "<Figure size 640x480 with 1 Axes>"
      ]
     },
     "metadata": {},
     "output_type": "display_data"
    }
   ],
   "source": [
    "df[\"price\"].groupby(df[\"ext_col\"]).mean().sort_values().tail(10).plot(kind=\"barh\")\n",
    "plt.ylabel(\"Exterior Color\")\n",
    "plt.xlabel(\"Mean Price\")\n",
    "plt.title(\"Mean Price By Exterior Color\");"
   ]
  },
  {
   "cell_type": "code",
   "execution_count": 12,
   "id": "f29eb6b7",
   "metadata": {
    "execution": {
     "iopub.execute_input": "2024-10-06T11:50:00.897421Z",
     "iopub.status.busy": "2024-10-06T11:50:00.897066Z",
     "iopub.status.idle": "2024-10-06T11:50:01.185920Z",
     "shell.execute_reply": "2024-10-06T11:50:01.184960Z"
    },
    "papermill": {
     "duration": 0.300281,
     "end_time": "2024-10-06T11:50:01.188027",
     "exception": false,
     "start_time": "2024-10-06T11:50:00.887746",
     "status": "completed"
    },
    "tags": []
   },
   "outputs": [
    {
     "data": {
      "image/png": "[encoded data removed]",
      "text/plain": [
       "<Figure size 640x480 with 1 Axes>"
      ]
     },
     "metadata": {},
     "output_type": "display_data"
    }
   ],
   "source": [
    "df[\"price\"].groupby(df[\"int_col\"]).mean().sort_values().tail(10).plot(kind=\"barh\")\n",
    "plt.ylabel(\"Interior Color\")\n",
    "plt.xlabel(\"Mean Price\")\n",
    "plt.title(\"Mean Price By Interior Color\");"
   ]
  },
  {
   "cell_type": "markdown",
   "id": "e7944651",
   "metadata": {
    "papermill": {
     "duration": 0.008721,
     "end_time": "2024-10-06T11:50:01.205934",
     "exception": false,
     "start_time": "2024-10-06T11:50:01.197213",
     "status": "completed"
    },
    "tags": []
   },
   "source": [
    "## Split the data."
   ]
  },
  {
   "cell_type": "code",
   "execution_count": 13,
   "id": "cbc10289",
   "metadata": {
    "execution": {
     "iopub.execute_input": "2024-10-06T11:50:01.225939Z",
     "iopub.status.busy": "2024-10-06T11:50:01.225003Z",
     "iopub.status.idle": "2024-10-06T11:50:01.258418Z",
     "shell.execute_reply": "2024-10-06T11:50:01.257343Z"
    },
    "papermill": {
     "duration": 0.046041,
     "end_time": "2024-10-06T11:50:01.260824",
     "exception": false,
     "start_time": "2024-10-06T11:50:01.214783",
     "status": "completed"
    },
    "tags": []
   },
   "outputs": [],
   "source": [
    "target = \"price\"\n",
    "X = df.drop(columns=target)\n",
    "y= df[target]"
   ]
  },
  {
   "cell_type": "code",
   "execution_count": 14,
   "id": "83f93966",
   "metadata": {
    "execution": {
     "iopub.execute_input": "2024-10-06T11:50:01.279984Z",
     "iopub.status.busy": "2024-10-06T11:50:01.279604Z",
     "iopub.status.idle": "2024-10-06T11:50:01.408202Z",
     "shell.execute_reply": "2024-10-06T11:50:01.407094Z"
    },
    "papermill": {
     "duration": 0.140476,
     "end_time": "2024-10-06T11:50:01.410313",
     "exception": false,
     "start_time": "2024-10-06T11:50:01.269837",
     "status": "completed"
    },
    "tags": []
   },
   "outputs": [
    {
     "data": {
      "text/plain": [
       "((150826, 13), (150826,))"
      ]
     },
     "execution_count": 14,
     "metadata": {},
     "output_type": "execute_result"
    }
   ],
   "source": [
    "X_train, X_test, y_train, y_test = train_test_split(X, y, test_size=0.2, random_state=42)\n",
    "X_train.shape, y_train.shape"
   ]
  },
  {
   "cell_type": "markdown",
   "id": "6546b0d7",
   "metadata": {
    "papermill": {
     "duration": 0.00869,
     "end_time": "2024-10-06T11:50:01.428069",
     "exception": false,
     "start_time": "2024-10-06T11:50:01.419379",
     "status": "completed"
    },
    "tags": []
   },
   "source": [
    "## Model"
   ]
  },
  {
   "cell_type": "markdown",
   "id": "11e4a31c",
   "metadata": {
    "papermill": {
     "duration": 0.008641,
     "end_time": "2024-10-06T11:50:01.445643",
     "exception": false,
     "start_time": "2024-10-06T11:50:01.437002",
     "status": "completed"
    },
    "tags": []
   },
   "source": [
    "### Baseline Model."
   ]
  },
  {
   "cell_type": "code",
   "execution_count": 15,
   "id": "cfcb8f7e",
   "metadata": {
    "execution": {
     "iopub.execute_input": "2024-10-06T11:50:01.465091Z",
     "iopub.status.busy": "2024-10-06T11:50:01.464233Z",
     "iopub.status.idle": "2024-10-06T11:50:01.483585Z",
     "shell.execute_reply": "2024-10-06T11:50:01.482663Z"
    },
    "papermill": {
     "duration": 0.03129,
     "end_time": "2024-10-06T11:50:01.485622",
     "exception": false,
     "start_time": "2024-10-06T11:50:01.454332",
     "status": "completed"
    },
    "tags": []
   },
   "outputs": [
    {
     "data": {
      "text/plain": [
       "79845.61699591158"
      ]
     },
     "execution_count": 15,
     "metadata": {},
     "output_type": "execute_result"
    }
   ],
   "source": [
    "y_pred = [y_train.mean()] * len(y_train)\n",
    "mse = mean_squared_error(y_train, y_pred)\n",
    "np.sqrt(mse)"
   ]
  },
  {
   "cell_type": "code",
   "execution_count": 16,
   "id": "c65b6581",
   "metadata": {
    "execution": {
     "iopub.execute_input": "2024-10-06T11:50:01.505863Z",
     "iopub.status.busy": "2024-10-06T11:50:01.505065Z",
     "iopub.status.idle": "2024-10-06T11:50:01.509278Z",
     "shell.execute_reply": "2024-10-06T11:50:01.508447Z"
    },
    "papermill": {
     "duration": 0.01619,
     "end_time": "2024-10-06T11:50:01.511166",
     "exception": false,
     "start_time": "2024-10-06T11:50:01.494976",
     "status": "completed"
    },
    "tags": []
   },
   "outputs": [],
   "source": [
    "import time"
   ]
  },
  {
   "cell_type": "code",
   "execution_count": 17,
   "id": "f39b83d3",
   "metadata": {
    "execution": {
     "iopub.execute_input": "2024-10-06T11:50:01.530392Z",
     "iopub.status.busy": "2024-10-06T11:50:01.529843Z",
     "iopub.status.idle": "2024-10-06T11:50:01.537164Z",
     "shell.execute_reply": "2024-10-06T11:50:01.536238Z"
    },
    "papermill": {
     "duration": 0.019164,
     "end_time": "2024-10-06T11:50:01.539185",
     "exception": false,
     "start_time": "2024-10-06T11:50:01.520021",
     "status": "completed"
    },
    "tags": []
   },
   "outputs": [],
   "source": [
    "def model(models):\n",
    "    score_dict = {}\n",
    "    print(\"Model Fitting in Progress.\")\n",
    "    for al in models:\n",
    "        model = make_pipeline(\n",
    "            OrdinalEncoder(),\n",
    "            SimpleImputer(),\n",
    "            MinMaxScaler(),\n",
    "            al\n",
    "        )\n",
    "        start = time.time()\n",
    "        model.fit(X_train, y_train)\n",
    "        train_time_lapse = time.time() - start\n",
    "        y_pred_train = model.predict(X_train)\n",
    "        y_pred_test = model.predict(X_test)\n",
    "        train_mse= mean_squared_error(y_train, y_pred_train)\n",
    "        test_mse = mean_squared_error(y_test, y_pred_test)\n",
    "        train_rmse = np.sqrt(train_mse)\n",
    "        test_rmse = np.sqrt(test_mse)\n",
    "        result = [train_rmse, test_rmse, train_time_lapse]\n",
    "        al_name = list(model.named_steps.keys())[-1]\n",
    "        score_dict[al_name] = result\n",
    "        \n",
    "    score_df = pd.DataFrame(score_dict).T\n",
    "    print(\"Models Fitted\")\n",
    "        \n",
    "    return score_df"
   ]
  },
  {
   "cell_type": "code",
   "execution_count": 18,
   "id": "b57e5d1a",
   "metadata": {
    "execution": {
     "iopub.execute_input": "2024-10-06T11:50:01.558657Z",
     "iopub.status.busy": "2024-10-06T11:50:01.558274Z",
     "iopub.status.idle": "2024-10-06T11:50:26.138737Z",
     "shell.execute_reply": "2024-10-06T11:50:26.137759Z"
    },
    "papermill": {
     "duration": 24.592858,
     "end_time": "2024-10-06T11:50:26.140936",
     "exception": false,
     "start_time": "2024-10-06T11:50:01.548078",
     "status": "completed"
    },
    "tags": []
   },
   "outputs": [
    {
     "name": "stdout",
     "output_type": "stream",
     "text": [
      "Model Fitting in Progress.\n",
      "Models Fitted\n"
     ]
    },
    {
     "data": {
      "text/html": [
       "<div>\n",
       "<style scoped>\n",
       "    .dataframe tbody tr th:only-of-type {\n",
       "        vertical-align: middle;\n",
       "    }\n",
       "\n",
       "    .dataframe tbody tr th {\n",
       "        vertical-align: top;\n",
       "    }\n",
       "\n",
       "    .dataframe thead th {\n",
       "        text-align: right;\n",
       "    }\n",
       "</style>\n",
       "<table border=\"1\" class=\"dataframe\">\n",
       "  <thead>\n",
       "    <tr style=\"text-align: right;\">\n",
       "      <th></th>\n",
       "      <th>0</th>\n",
       "      <th>1</th>\n",
       "      <th>2</th>\n",
       "    </tr>\n",
       "  </thead>\n",
       "  <tbody>\n",
       "    <tr>\n",
       "      <th>catboostregressor</th>\n",
       "      <td>64519.387099</td>\n",
       "      <td>69011.479999</td>\n",
       "      <td>15.797134</td>\n",
       "    </tr>\n",
       "    <tr>\n",
       "      <th>xgbregressor</th>\n",
       "      <td>59108.137220</td>\n",
       "      <td>70781.726106</td>\n",
       "      <td>3.253391</td>\n",
       "    </tr>\n",
       "    <tr>\n",
       "      <th>lgbmregressor</th>\n",
       "      <td>70168.444315</td>\n",
       "      <td>68384.662883</td>\n",
       "      <td>2.577092</td>\n",
       "    </tr>\n",
       "  </tbody>\n",
       "</table>\n",
       "</div>"
      ],
      "text/plain": [
       "                              0             1          2\n",
       "catboostregressor  64519.387099  69011.479999  15.797134\n",
       "xgbregressor       59108.137220  70781.726106   3.253391\n",
       "lgbmregressor      70168.444315  68384.662883   2.577092"
      ]
     },
     "execution_count": 18,
     "metadata": {},
     "output_type": "execute_result"
    }
   ],
   "source": [
    "models = [CatBoostRegressor(verbose=0, random_state=42), \n",
    "         XGBRegressor(random_state=42), \n",
    "         LGBMRegressor(verbose=-1, random_state=42)]\n",
    "modelling = model(models)\n",
    "modelling"
   ]
  },
  {
   "cell_type": "code",
   "execution_count": 19,
   "id": "f8c379c7",
   "metadata": {
    "execution": {
     "iopub.execute_input": "2024-10-06T11:50:26.161877Z",
     "iopub.status.busy": "2024-10-06T11:50:26.161009Z",
     "iopub.status.idle": "2024-10-06T11:50:29.011614Z",
     "shell.execute_reply": "2024-10-06T11:50:29.010787Z"
    },
    "papermill": {
     "duration": 2.863386,
     "end_time": "2024-10-06T11:50:29.013984",
     "exception": false,
     "start_time": "2024-10-06T11:50:26.150598",
     "status": "completed"
    },
    "tags": []
   },
   "outputs": [],
   "source": [
    "test = wrangle(\"/kaggle/input/playground-series-s4e9/test.csv\")"
   ]
  },
  {
   "cell_type": "code",
   "execution_count": 20,
   "id": "e4d6d014",
   "metadata": {
    "execution": {
     "iopub.execute_input": "2024-10-06T11:50:29.034533Z",
     "iopub.status.busy": "2024-10-06T11:50:29.033840Z",
     "iopub.status.idle": "2024-10-06T11:50:32.754299Z",
     "shell.execute_reply": "2024-10-06T11:50:32.753278Z"
    },
    "papermill": {
     "duration": 3.73324,
     "end_time": "2024-10-06T11:50:32.756737",
     "exception": false,
     "start_time": "2024-10-06T11:50:29.023497",
     "status": "completed"
    },
    "tags": []
   },
   "outputs": [
    {
     "data": {
      "text/html": [
       "<style>#sk-container-id-1 {color: black;background-color: white;}#sk-container-id-1 pre{padding: 0;}#sk-container-id-1 div.sk-toggleable {background-color: white;}#sk-container-id-1 label.sk-toggleable__label {cursor: pointer;display: block;width: 100%;margin-bottom: 0;padding: 0.3em;box-sizing: border-box;text-align: center;}#sk-container-id-1 label.sk-toggleable__label-arrow:before {content: \"▸\";float: left;margin-right: 0.25em;color: #696969;}#sk-container-id-1 label.sk-toggleable__label-arrow:hover:before {color: black;}#sk-container-id-1 div.sk-estimator:hover label.sk-toggleable__label-arrow:before {color: black;}#sk-container-id-1 div.sk-toggleable__content {max-height: 0;max-width: 0;overflow: hidden;text-align: left;background-color: #f0f8ff;}#sk-container-id-1 div.sk-toggleable__content pre {margin: 0.2em;color: black;border-radius: 0.25em;background-color: #f0f8ff;}#sk-container-id-1 input.sk-toggleable__control:checked~div.sk-toggleable__content {max-height: 200px;max-width: 100%;overflow: auto;}#sk-container-id-1 input.sk-toggleable__control:checked~label.sk-toggleable__label-arrow:before {content: \"▾\";}#sk-container-id-1 div.sk-estimator input.sk-toggleable__control:checked~label.sk-toggleable__label {background-color: #d4ebff;}#sk-container-id-1 div.sk-label input.sk-toggleable__control:checked~label.sk-toggleable__label {background-color: #d4ebff;}#sk-container-id-1 input.sk-hidden--visually {border: 0;clip: rect(1px 1px 1px 1px);clip: rect(1px, 1px, 1px, 1px);height: 1px;margin: -1px;overflow: hidden;padding: 0;position: absolute;width: 1px;}#sk-container-id-1 div.sk-estimator {font-family: monospace;background-color: #f0f8ff;border: 1px dotted black;border-radius: 0.25em;box-sizing: border-box;margin-bottom: 0.5em;}#sk-container-id-1 div.sk-estimator:hover {background-color: #d4ebff;}#sk-container-id-1 div.sk-parallel-item::after {content: \"\";width: 100%;border-bottom: 1px solid gray;flex-grow: 1;}#sk-container-id-1 div.sk-label:hover label.sk-toggleable__label {background-color: #d4ebff;}#sk-container-id-1 div.sk-serial::before {content: \"\";position: absolute;border-left: 1px solid gray;box-sizing: border-box;top: 0;bottom: 0;left: 50%;z-index: 0;}#sk-container-id-1 div.sk-serial {display: flex;flex-direction: column;align-items: center;background-color: white;padding-right: 0.2em;padding-left: 0.2em;position: relative;}#sk-container-id-1 div.sk-item {position: relative;z-index: 1;}#sk-container-id-1 div.sk-parallel {display: flex;align-items: stretch;justify-content: center;background-color: white;position: relative;}#sk-container-id-1 div.sk-item::before, #sk-container-id-1 div.sk-parallel-item::before {content: \"\";position: absolute;border-left: 1px solid gray;box-sizing: border-box;top: 0;bottom: 0;left: 50%;z-index: -1;}#sk-container-id-1 div.sk-parallel-item {display: flex;flex-direction: column;z-index: 1;position: relative;background-color: white;}#sk-container-id-1 div.sk-parallel-item:first-child::after {align-self: flex-end;width: 50%;}#sk-container-id-1 div.sk-parallel-item:last-child::after {align-self: flex-start;width: 50%;}#sk-container-id-1 div.sk-parallel-item:only-child::after {width: 0;}#sk-container-id-1 div.sk-dashed-wrapped {border: 1px dashed gray;margin: 0 0.4em 0.5em 0.4em;box-sizing: border-box;padding-bottom: 0.4em;background-color: white;}#sk-container-id-1 div.sk-label label {font-family: monospace;font-weight: bold;display: inline-block;line-height: 1.2em;}#sk-container-id-1 div.sk-label-container {text-align: center;}#sk-container-id-1 div.sk-container {/* jupyter's `normalize.less` sets `[hidden] { display: none; }` but bootstrap.min.css set `[hidden] { display: none !important; }` so we also need the `!important` here to be able to override the default hidden behavior on the sphinx rendered scikit-learn.org. See: https://github.com/scikit-learn/scikit-learn/issues/21755 */display: inline-block !important;position: relative;}#sk-container-id-1 div.sk-text-repr-fallback {display: none;}</style><div id=\"sk-container-id-1\" class=\"sk-top-container\"><div class=\"sk-text-repr-fallback\"><pre>Pipeline(steps=[(&#x27;ordinalencoder&#x27;,\n",
       "                 OrdinalEncoder(cols=[&#x27;brand&#x27;, &#x27;model&#x27;, &#x27;fuel_type&#x27;, &#x27;engine&#x27;,\n",
       "                                      &#x27;transmission&#x27;, &#x27;ext_col&#x27;, &#x27;int_col&#x27;,\n",
       "                                      &#x27;accident&#x27;],\n",
       "                                mapping=[{&#x27;col&#x27;: &#x27;brand&#x27;,\n",
       "                                          &#x27;data_type&#x27;: dtype(&#x27;O&#x27;),\n",
       "                                          &#x27;mapping&#x27;: Mercedes-Benz     1\n",
       "Nissan            2\n",
       "Ford              3\n",
       "Hyundai           4\n",
       "Dodge             5\n",
       "Lexus             6\n",
       "BMW               7\n",
       "INFINITI          8\n",
       "Porsche           9\n",
       "Chevrolet        10\n",
       "Land             11\n",
       "Toyota           12\n",
       "RAM              13\n",
       "Volkswagen       14\n",
       "Lincoln          15\n",
       "GMC              16\n",
       "Alfa             17\n",
       "Honda            18\n",
       "Jeep             19\n",
       "Subaru           20\n",
       "Lamb...\n",
       "                                          &#x27;data_type&#x27;: dtype(&#x27;O&#x27;),\n",
       "                                          &#x27;mapping&#x27;: black        1\n",
       "gray         2\n",
       "beige        3\n",
       "–            4\n",
       "white        5\n",
       "            ..\n",
       "auburn      80\n",
       "cashmere    81\n",
       "pewter      82\n",
       "sport       83\n",
       "NaN         -2\n",
       "Length: 84, dtype: int64},\n",
       "                                         {&#x27;col&#x27;: &#x27;accident&#x27;,\n",
       "                                          &#x27;data_type&#x27;: dtype(&#x27;O&#x27;),\n",
       "                                          &#x27;mapping&#x27;: At least 1 accident or damage reported    1\n",
       "None reported                             2\n",
       "NaN                                       3\n",
       "dtype: int64}])),\n",
       "                (&#x27;simpleimputer&#x27;, SimpleImputer()),\n",
       "                (&#x27;minmaxscaler&#x27;, MinMaxScaler()),\n",
       "                (&#x27;lgbmregressor&#x27;, LGBMRegressor(random_state=42, verbose=-1))])</pre><b>In a Jupyter environment, please rerun this cell to show the HTML representation or trust the notebook. <br />On GitHub, the HTML representation is unable to render, please try loading this page with nbviewer.org.</b></div><div class=\"sk-container\" hidden><div class=\"sk-item sk-dashed-wrapped\"><div class=\"sk-label-container\"><div class=\"sk-label sk-toggleable\"><input class=\"sk-toggleable__control sk-hidden--visually\" id=\"sk-estimator-id-1\" type=\"checkbox\" ><label for=\"sk-estimator-id-1\" class=\"sk-toggleable__label sk-toggleable__label-arrow\">Pipeline</label><div class=\"sk-toggleable__content\"><pre>Pipeline(steps=[(&#x27;ordinalencoder&#x27;,\n",
       "                 OrdinalEncoder(cols=[&#x27;brand&#x27;, &#x27;model&#x27;, &#x27;fuel_type&#x27;, &#x27;engine&#x27;,\n",
       "                                      &#x27;transmission&#x27;, &#x27;ext_col&#x27;, &#x27;int_col&#x27;,\n",
       "                                      &#x27;accident&#x27;],\n",
       "                                mapping=[{&#x27;col&#x27;: &#x27;brand&#x27;,\n",
       "                                          &#x27;data_type&#x27;: dtype(&#x27;O&#x27;),\n",
       "                                          &#x27;mapping&#x27;: Mercedes-Benz     1\n",
       "Nissan            2\n",
       "Ford              3\n",
       "Hyundai           4\n",
       "Dodge             5\n",
       "Lexus             6\n",
       "BMW               7\n",
       "INFINITI          8\n",
       "Porsche           9\n",
       "Chevrolet        10\n",
       "Land             11\n",
       "Toyota           12\n",
       "RAM              13\n",
       "Volkswagen       14\n",
       "Lincoln          15\n",
       "GMC              16\n",
       "Alfa             17\n",
       "Honda            18\n",
       "Jeep             19\n",
       "Subaru           20\n",
       "Lamb...\n",
       "                                          &#x27;data_type&#x27;: dtype(&#x27;O&#x27;),\n",
       "                                          &#x27;mapping&#x27;: black        1\n",
       "gray         2\n",
       "beige        3\n",
       "–            4\n",
       "white        5\n",
       "            ..\n",
       "auburn      80\n",
       "cashmere    81\n",
       "pewter      82\n",
       "sport       83\n",
       "NaN         -2\n",
       "Length: 84, dtype: int64},\n",
       "                                         {&#x27;col&#x27;: &#x27;accident&#x27;,\n",
       "                                          &#x27;data_type&#x27;: dtype(&#x27;O&#x27;),\n",
       "                                          &#x27;mapping&#x27;: At least 1 accident or damage reported    1\n",
       "None reported                             2\n",
       "NaN                                       3\n",
       "dtype: int64}])),\n",
       "                (&#x27;simpleimputer&#x27;, SimpleImputer()),\n",
       "                (&#x27;minmaxscaler&#x27;, MinMaxScaler()),\n",
       "                (&#x27;lgbmregressor&#x27;, LGBMRegressor(random_state=42, verbose=-1))])</pre></div></div></div><div class=\"sk-serial\"><div class=\"sk-item\"><div class=\"sk-estimator sk-toggleable\"><input class=\"sk-toggleable__control sk-hidden--visually\" id=\"sk-estimator-id-2\" type=\"checkbox\" ><label for=\"sk-estimator-id-2\" class=\"sk-toggleable__label sk-toggleable__label-arrow\">OrdinalEncoder</label><div class=\"sk-toggleable__content\"><pre>OrdinalEncoder(cols=[&#x27;brand&#x27;, &#x27;model&#x27;, &#x27;fuel_type&#x27;, &#x27;engine&#x27;, &#x27;transmission&#x27;,\n",
       "                     &#x27;ext_col&#x27;, &#x27;int_col&#x27;, &#x27;accident&#x27;],\n",
       "               mapping=[{&#x27;col&#x27;: &#x27;brand&#x27;, &#x27;data_type&#x27;: dtype(&#x27;O&#x27;),\n",
       "                         &#x27;mapping&#x27;: Mercedes-Benz     1\n",
       "Nissan            2\n",
       "Ford              3\n",
       "Hyundai           4\n",
       "Dodge             5\n",
       "Lexus             6\n",
       "BMW               7\n",
       "INFINITI          8\n",
       "Porsche           9\n",
       "Chevrolet        10\n",
       "Land             11\n",
       "Toyota           12\n",
       "RAM              13\n",
       "Volkswagen       14\n",
       "Lincoln          15\n",
       "GMC              16\n",
       "Alfa             17\n",
       "Honda            18\n",
       "Jeep             19\n",
       "Subaru           20\n",
       "Lamborghini      21\n",
       "Mitsubishi       22\n",
       "Audi             23\n",
       "Tesla            24...\n",
       "                         &#x27;mapping&#x27;: gray            1\n",
       "silver          2\n",
       "black           3\n",
       "red             4\n",
       "white           5\n",
       "               ..\n",
       "ember          70\n",
       "chromaflair    71\n",
       "tempest        72\n",
       "caelum         73\n",
       "NaN            -2\n",
       "Length: 74, dtype: int64},\n",
       "                        {&#x27;col&#x27;: &#x27;int_col&#x27;, &#x27;data_type&#x27;: dtype(&#x27;O&#x27;),\n",
       "                         &#x27;mapping&#x27;: black        1\n",
       "gray         2\n",
       "beige        3\n",
       "–            4\n",
       "white        5\n",
       "            ..\n",
       "auburn      80\n",
       "cashmere    81\n",
       "pewter      82\n",
       "sport       83\n",
       "NaN         -2\n",
       "Length: 84, dtype: int64},\n",
       "                        {&#x27;col&#x27;: &#x27;accident&#x27;, &#x27;data_type&#x27;: dtype(&#x27;O&#x27;),\n",
       "                         &#x27;mapping&#x27;: At least 1 accident or damage reported    1\n",
       "None reported                             2\n",
       "NaN                                       3\n",
       "dtype: int64}])</pre></div></div></div><div class=\"sk-item\"><div class=\"sk-estimator sk-toggleable\"><input class=\"sk-toggleable__control sk-hidden--visually\" id=\"sk-estimator-id-3\" type=\"checkbox\" ><label for=\"sk-estimator-id-3\" class=\"sk-toggleable__label sk-toggleable__label-arrow\">SimpleImputer</label><div class=\"sk-toggleable__content\"><pre>SimpleImputer()</pre></div></div></div><div class=\"sk-item\"><div class=\"sk-estimator sk-toggleable\"><input class=\"sk-toggleable__control sk-hidden--visually\" id=\"sk-estimator-id-4\" type=\"checkbox\" ><label for=\"sk-estimator-id-4\" class=\"sk-toggleable__label sk-toggleable__label-arrow\">MinMaxScaler</label><div class=\"sk-toggleable__content\"><pre>MinMaxScaler()</pre></div></div></div><div class=\"sk-item\"><div class=\"sk-estimator sk-toggleable\"><input class=\"sk-toggleable__control sk-hidden--visually\" id=\"sk-estimator-id-5\" type=\"checkbox\" ><label for=\"sk-estimator-id-5\" class=\"sk-toggleable__label sk-toggleable__label-arrow\">LGBMRegressor</label><div class=\"sk-toggleable__content\"><pre>LGBMRegressor(random_state=42, verbose=-1)</pre></div></div></div></div></div></div></div>"
      ],
      "text/plain": [
       "Pipeline(steps=[('ordinalencoder',\n",
       "                 OrdinalEncoder(cols=['brand', 'model', 'fuel_type', 'engine',\n",
       "                                      'transmission', 'ext_col', 'int_col',\n",
       "                                      'accident'],\n",
       "                                mapping=[{'col': 'brand',\n",
       "                                          'data_type': dtype('O'),\n",
       "                                          'mapping': Mercedes-Benz     1\n",
       "Nissan            2\n",
       "Ford              3\n",
       "Hyundai           4\n",
       "Dodge             5\n",
       "Lexus             6\n",
       "BMW               7\n",
       "INFINITI          8\n",
       "Porsche           9\n",
       "Chevrolet        10\n",
       "Land             11\n",
       "Toyota           12\n",
       "RAM              13\n",
       "Volkswagen       14\n",
       "Lincoln          15\n",
       "GMC              16\n",
       "Alfa             17\n",
       "Honda            18\n",
       "Jeep             19\n",
       "Subaru           20\n",
       "Lamb...\n",
       "                                          'data_type': dtype('O'),\n",
       "                                          'mapping': black        1\n",
       "gray         2\n",
       "beige        3\n",
       "–            4\n",
       "white        5\n",
       "            ..\n",
       "auburn      80\n",
       "cashmere    81\n",
       "pewter      82\n",
       "sport       83\n",
       "NaN         -2\n",
       "Length: 84, dtype: int64},\n",
       "                                         {'col': 'accident',\n",
       "                                          'data_type': dtype('O'),\n",
       "                                          'mapping': At least 1 accident or damage reported    1\n",
       "None reported                             2\n",
       "NaN                                       3\n",
       "dtype: int64}])),\n",
       "                ('simpleimputer', SimpleImputer()),\n",
       "                ('minmaxscaler', MinMaxScaler()),\n",
       "                ('lgbmregressor', LGBMRegressor(random_state=42, verbose=-1))])"
      ]
     },
     "execution_count": 20,
     "metadata": {},
     "output_type": "execute_result"
    }
   ],
   "source": [
    "model = make_pipeline(\n",
    "            OrdinalEncoder(),\n",
    "            SimpleImputer(),\n",
    "            MinMaxScaler(),\n",
    "            LGBMRegressor(verbose=-1, random_state=42)\n",
    "        )\n",
    "model.fit(X_train, y_train)"
   ]
  },
  {
   "cell_type": "code",
   "execution_count": 21,
   "id": "efbdcc4d",
   "metadata": {
    "execution": {
     "iopub.execute_input": "2024-10-06T11:50:32.778176Z",
     "iopub.status.busy": "2024-10-06T11:50:32.777405Z",
     "iopub.status.idle": "2024-10-06T11:50:33.040926Z",
     "shell.execute_reply": "2024-10-06T11:50:33.040097Z"
    },
    "papermill": {
     "duration": 0.276483,
     "end_time": "2024-10-06T11:50:33.043207",
     "exception": false,
     "start_time": "2024-10-06T11:50:32.766724",
     "status": "completed"
    },
    "tags": []
   },
   "outputs": [
    {
     "data": {
      "image/png": "[encoded data removed]",
      "text/plain": [
       "<Figure size 640x480 with 1 Axes>"
      ]
     },
     "metadata": {},
     "output_type": "display_data"
    }
   ],
   "source": [
    "imp = model.named_steps[\"lgbmregressor\"].feature_importances_\n",
    "feat = X.columns\n",
    "pd.Series(imp, index=feat).sort_values().plot(kind=\"barh\");"
   ]
  },
  {
   "cell_type": "code",
   "execution_count": 22,
   "id": "c717d5fe",
   "metadata": {
    "execution": {
     "iopub.execute_input": "2024-10-06T11:50:33.066049Z",
     "iopub.status.busy": "2024-10-06T11:50:33.065390Z",
     "iopub.status.idle": "2024-10-06T11:50:34.283985Z",
     "shell.execute_reply": "2024-10-06T11:50:34.283143Z"
    },
    "papermill": {
     "duration": 1.232448,
     "end_time": "2024-10-06T11:50:34.286393",
     "exception": false,
     "start_time": "2024-10-06T11:50:33.053945",
     "status": "completed"
    },
    "tags": []
   },
   "outputs": [],
   "source": [
    "pred = model.predict(test)\n",
    "pd.DataFrame(pred, index= test.index).to_csv(\"lgbmversion1\")"
   ]
  },
  {
   "cell_type": "code",
   "execution_count": null,
   "id": "438a1c97",
   "metadata": {
    "papermill": {
     "duration": 0.010315,
     "end_time": "2024-10-06T11:50:34.307147",
     "exception": false,
     "start_time": "2024-10-06T11:50:34.296832",
     "status": "completed"
    },
    "tags": []
   },
   "outputs": [],
   "source": []
  }
 ],
 "metadata": {
  "kaggle": {
   "accelerator": "none",
   "dataSources": [
    {
     "databundleVersionId": 9057646,
     "sourceId": 76728,
     "sourceType": "competition"
    }
   ],
   "dockerImageVersionId": 30775,
   "isGpuEnabled": false,
   "isInternetEnabled": true,
   "language": "python",
   "sourceType": "notebook"
  },
  "kernelspec": {
   "display_name": "Python 3",
   "language": "python",
   "name": "python3"
  },
  "language_info": {
   "codemirror_mode": {
    "name": "ipython",
    "version": 3
   },
   "file_extension": ".py",
   "mimetype": "text/x-python",
   "name": "python",
   "nbconvert_exporter": "python",
   "pygments_lexer": "ipython3",
   "version": "3.10.14"
  },
  "papermill": {
   "default_parameters": {},
   "duration": 47.963831,
   "end_time": "2024-10-06T11:50:35.138004",
   "environment_variables": {},
   "exception": null,
   "input_path": "__notebook__.ipynb",
   "output_path": "__notebook__.ipynb",
   "parameters": {},
   "start_time": "2024-10-06T11:49:47.174173",
   "version": "2.6.0"
  }
 },
 "nbformat": 4,
 "nbformat_minor": 5
}
