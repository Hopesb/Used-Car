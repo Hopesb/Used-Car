{
 "cells": [
  {
   "cell_type": "markdown",
   "id": "dd0247ce",
   "metadata": {
    "papermill": {
     "duration": 0.004175,
     "end_time": "2024-10-02T21:30:02.868687",
     "exception": false,
     "start_time": "2024-10-02T21:30:02.864512",
     "status": "completed"
    },
    "tags": []
   },
   "source": [
    "Your Goal: The goal of this competition is to predict the price of used cars based on various attributes.\n",
    "\n",
    "Root Mean Squared Error (RMSE)\n",
    "Submissions are scored on the root mean squared error. RMSE is defined as:\n",
    "\n",
    "RMSE=(1N∑i=1N(yi−yˆi)2)12\n",
    "\n",
    "where yˆi\n",
    " is the predicted value and yi\n",
    " is the original value for each instance i\n",
    ".\n",
    "\n",
    "Submission File\n",
    "For each id in the test set, you must predict the price of the car. The file should contain a header and have the following format:"
   ]
  },
  {
   "cell_type": "markdown",
   "id": "12b24d0a",
   "metadata": {
    "papermill": {
     "duration": 0.002934,
     "end_time": "2024-10-02T21:30:02.875229",
     "exception": false,
     "start_time": "2024-10-02T21:30:02.872295",
     "status": "completed"
    },
    "tags": []
   },
   "source": [
    "## Import and Load Data."
   ]
  },
  {
   "cell_type": "code",
   "execution_count": 1,
   "id": "17c77c35",
   "metadata": {
    "execution": {
     "iopub.execute_input": "2024-10-02T21:30:02.883597Z",
     "iopub.status.busy": "2024-10-02T21:30:02.883107Z",
     "iopub.status.idle": "2024-10-02T21:30:09.205814Z",
     "shell.execute_reply": "2024-10-02T21:30:09.204400Z"
    },
    "papermill": {
     "duration": 6.330527,
     "end_time": "2024-10-02T21:30:09.208953",
     "exception": false,
     "start_time": "2024-10-02T21:30:02.878426",
     "status": "completed"
    },
    "tags": []
   },
   "outputs": [],
   "source": [
    "# import libraries.\n",
    "import pandas as pd\n",
    "import numpy as np\n",
    "\n",
    "import matplotlib.pyplot as plt\n",
    "import seaborn as sns\n",
    "import plotly_express as px\n",
    "\n",
    "from xgboost import XGBRegressor\n",
    "from catboost import CatBoostRegressor\n",
    "from lightgbm import LGBMClassifier\n",
    "from sklearn.ensemble import VotingRegressor\n",
    "from sklearn.metrics import mean_squared_error # Remember to take the root of the result.\n",
    "from category_encoders import OneHotEncoder, OrdinalEncoder\n",
    "from sklearn.impute import SimpleImputer\n",
    "from sklearn.model_selection import train_test_split\n",
    "from sklearn.cluster import KMeans\n",
    "from sklearn.preprocessing import StandardScaler, MinMaxScaler\n",
    "from sklearn.pipeline import make_pipeline\n",
    "import optuna"
   ]
  },
  {
   "cell_type": "code",
   "execution_count": 2,
   "id": "f8a0ecf1",
   "metadata": {
    "execution": {
     "iopub.execute_input": "2024-10-02T21:30:09.217695Z",
     "iopub.status.busy": "2024-10-02T21:30:09.216956Z",
     "iopub.status.idle": "2024-10-02T21:30:09.222998Z",
     "shell.execute_reply": "2024-10-02T21:30:09.221945Z"
    },
    "papermill": {
     "duration": 0.013188,
     "end_time": "2024-10-02T21:30:09.225507",
     "exception": false,
     "start_time": "2024-10-02T21:30:09.212319",
     "status": "completed"
    },
    "tags": []
   },
   "outputs": [],
   "source": [
    "# Building a function that preprocess the data.\n",
    "def wrangle(filepath):\n",
    "    \n",
    "    # read file to dataframe.\n",
    "    df = pd.read_csv(filepath, index_col=\"id\")\n",
    "    \n",
    "    return df"
   ]
  },
  {
   "cell_type": "code",
   "execution_count": 3,
   "id": "96f673e2",
   "metadata": {
    "execution": {
     "iopub.execute_input": "2024-10-02T21:30:09.233753Z",
     "iopub.status.busy": "2024-10-02T21:30:09.233293Z",
     "iopub.status.idle": "2024-10-02T21:30:10.178744Z",
     "shell.execute_reply": "2024-10-02T21:30:10.177571Z"
    },
    "papermill": {
     "duration": 0.952521,
     "end_time": "2024-10-02T21:30:10.181444",
     "exception": false,
     "start_time": "2024-10-02T21:30:09.228923",
     "status": "completed"
    },
    "tags": []
   },
   "outputs": [
    {
     "data": {
      "text/html": [
       "<div>\n",
       "<style scoped>\n",
       "    .dataframe tbody tr th:only-of-type {\n",
       "        vertical-align: middle;\n",
       "    }\n",
       "\n",
       "    .dataframe tbody tr th {\n",
       "        vertical-align: top;\n",
       "    }\n",
       "\n",
       "    .dataframe thead th {\n",
       "        text-align: right;\n",
       "    }\n",
       "</style>\n",
       "<table border=\"1\" class=\"dataframe\">\n",
       "  <thead>\n",
       "    <tr style=\"text-align: right;\">\n",
       "      <th></th>\n",
       "      <th>brand</th>\n",
       "      <th>model</th>\n",
       "      <th>model_year</th>\n",
       "      <th>milage</th>\n",
       "      <th>fuel_type</th>\n",
       "      <th>engine</th>\n",
       "      <th>transmission</th>\n",
       "      <th>ext_col</th>\n",
       "      <th>int_col</th>\n",
       "      <th>accident</th>\n",
       "      <th>clean_title</th>\n",
       "      <th>price</th>\n",
       "    </tr>\n",
       "    <tr>\n",
       "      <th>id</th>\n",
       "      <th></th>\n",
       "      <th></th>\n",
       "      <th></th>\n",
       "      <th></th>\n",
       "      <th></th>\n",
       "      <th></th>\n",
       "      <th></th>\n",
       "      <th></th>\n",
       "      <th></th>\n",
       "      <th></th>\n",
       "      <th></th>\n",
       "      <th></th>\n",
       "    </tr>\n",
       "  </thead>\n",
       "  <tbody>\n",
       "    <tr>\n",
       "      <th>0</th>\n",
       "      <td>MINI</td>\n",
       "      <td>Cooper S Base</td>\n",
       "      <td>2007</td>\n",
       "      <td>213000</td>\n",
       "      <td>Gasoline</td>\n",
       "      <td>172.0HP 1.6L 4 Cylinder Engine Gasoline Fuel</td>\n",
       "      <td>A/T</td>\n",
       "      <td>Yellow</td>\n",
       "      <td>Gray</td>\n",
       "      <td>None reported</td>\n",
       "      <td>Yes</td>\n",
       "      <td>4200</td>\n",
       "    </tr>\n",
       "    <tr>\n",
       "      <th>1</th>\n",
       "      <td>Lincoln</td>\n",
       "      <td>LS V8</td>\n",
       "      <td>2002</td>\n",
       "      <td>143250</td>\n",
       "      <td>Gasoline</td>\n",
       "      <td>252.0HP 3.9L 8 Cylinder Engine Gasoline Fuel</td>\n",
       "      <td>A/T</td>\n",
       "      <td>Silver</td>\n",
       "      <td>Beige</td>\n",
       "      <td>At least 1 accident or damage reported</td>\n",
       "      <td>Yes</td>\n",
       "      <td>4999</td>\n",
       "    </tr>\n",
       "    <tr>\n",
       "      <th>2</th>\n",
       "      <td>Chevrolet</td>\n",
       "      <td>Silverado 2500 LT</td>\n",
       "      <td>2002</td>\n",
       "      <td>136731</td>\n",
       "      <td>E85 Flex Fuel</td>\n",
       "      <td>320.0HP 5.3L 8 Cylinder Engine Flex Fuel Capab...</td>\n",
       "      <td>A/T</td>\n",
       "      <td>Blue</td>\n",
       "      <td>Gray</td>\n",
       "      <td>None reported</td>\n",
       "      <td>Yes</td>\n",
       "      <td>13900</td>\n",
       "    </tr>\n",
       "    <tr>\n",
       "      <th>3</th>\n",
       "      <td>Genesis</td>\n",
       "      <td>G90 5.0 Ultimate</td>\n",
       "      <td>2017</td>\n",
       "      <td>19500</td>\n",
       "      <td>Gasoline</td>\n",
       "      <td>420.0HP 5.0L 8 Cylinder Engine Gasoline Fuel</td>\n",
       "      <td>Transmission w/Dual Shift Mode</td>\n",
       "      <td>Black</td>\n",
       "      <td>Black</td>\n",
       "      <td>None reported</td>\n",
       "      <td>Yes</td>\n",
       "      <td>45000</td>\n",
       "    </tr>\n",
       "    <tr>\n",
       "      <th>4</th>\n",
       "      <td>Mercedes-Benz</td>\n",
       "      <td>Metris Base</td>\n",
       "      <td>2021</td>\n",
       "      <td>7388</td>\n",
       "      <td>Gasoline</td>\n",
       "      <td>208.0HP 2.0L 4 Cylinder Engine Gasoline Fuel</td>\n",
       "      <td>7-Speed A/T</td>\n",
       "      <td>Black</td>\n",
       "      <td>Beige</td>\n",
       "      <td>None reported</td>\n",
       "      <td>Yes</td>\n",
       "      <td>97500</td>\n",
       "    </tr>\n",
       "  </tbody>\n",
       "</table>\n",
       "</div>"
      ],
      "text/plain": [
       "            brand              model  model_year  milage      fuel_type  \\\n",
       "id                                                                        \n",
       "0            MINI      Cooper S Base        2007  213000       Gasoline   \n",
       "1         Lincoln              LS V8        2002  143250       Gasoline   \n",
       "2       Chevrolet  Silverado 2500 LT        2002  136731  E85 Flex Fuel   \n",
       "3         Genesis   G90 5.0 Ultimate        2017   19500       Gasoline   \n",
       "4   Mercedes-Benz        Metris Base        2021    7388       Gasoline   \n",
       "\n",
       "                                               engine  \\\n",
       "id                                                      \n",
       "0        172.0HP 1.6L 4 Cylinder Engine Gasoline Fuel   \n",
       "1        252.0HP 3.9L 8 Cylinder Engine Gasoline Fuel   \n",
       "2   320.0HP 5.3L 8 Cylinder Engine Flex Fuel Capab...   \n",
       "3        420.0HP 5.0L 8 Cylinder Engine Gasoline Fuel   \n",
       "4        208.0HP 2.0L 4 Cylinder Engine Gasoline Fuel   \n",
       "\n",
       "                      transmission ext_col int_col  \\\n",
       "id                                                   \n",
       "0                              A/T  Yellow    Gray   \n",
       "1                              A/T  Silver   Beige   \n",
       "2                              A/T    Blue    Gray   \n",
       "3   Transmission w/Dual Shift Mode   Black   Black   \n",
       "4                      7-Speed A/T   Black   Beige   \n",
       "\n",
       "                                  accident clean_title  price  \n",
       "id                                                             \n",
       "0                            None reported         Yes   4200  \n",
       "1   At least 1 accident or damage reported         Yes   4999  \n",
       "2                            None reported         Yes  13900  \n",
       "3                            None reported         Yes  45000  \n",
       "4                            None reported         Yes  97500  "
      ]
     },
     "execution_count": 3,
     "metadata": {},
     "output_type": "execute_result"
    }
   ],
   "source": [
    "filepath = \"/kaggle/input/playground-series-s4e9/train.csv\"\n",
    "df = wrangle(filepath)\n",
    "df.head()"
   ]
  },
  {
   "cell_type": "code",
   "execution_count": 4,
   "id": "e9779f9e",
   "metadata": {
    "execution": {
     "iopub.execute_input": "2024-10-02T21:30:10.190961Z",
     "iopub.status.busy": "2024-10-02T21:30:10.190514Z",
     "iopub.status.idle": "2024-10-02T21:30:10.289185Z",
     "shell.execute_reply": "2024-10-02T21:30:10.287837Z"
    },
    "papermill": {
     "duration": 0.106372,
     "end_time": "2024-10-02T21:30:10.291804",
     "exception": false,
     "start_time": "2024-10-02T21:30:10.185432",
     "status": "completed"
    },
    "tags": []
   },
   "outputs": [
    {
     "name": "stdout",
     "output_type": "stream",
     "text": [
      "<class 'pandas.core.frame.DataFrame'>\n",
      "Index: 188533 entries, 0 to 188532\n",
      "Data columns (total 12 columns):\n",
      " #   Column        Non-Null Count   Dtype \n",
      "---  ------        --------------   ----- \n",
      " 0   brand         188533 non-null  object\n",
      " 1   model         188533 non-null  object\n",
      " 2   model_year    188533 non-null  int64 \n",
      " 3   milage        188533 non-null  int64 \n",
      " 4   fuel_type     183450 non-null  object\n",
      " 5   engine        188533 non-null  object\n",
      " 6   transmission  188533 non-null  object\n",
      " 7   ext_col       188533 non-null  object\n",
      " 8   int_col       188533 non-null  object\n",
      " 9   accident      186081 non-null  object\n",
      " 10  clean_title   167114 non-null  object\n",
      " 11  price         188533 non-null  int64 \n",
      "dtypes: int64(3), object(9)\n",
      "memory usage: 18.7+ MB\n"
     ]
    }
   ],
   "source": [
    "df.info()"
   ]
  },
  {
   "cell_type": "code",
   "execution_count": 5,
   "id": "ab4fabcc",
   "metadata": {
    "execution": {
     "iopub.execute_input": "2024-10-02T21:30:10.300904Z",
     "iopub.status.busy": "2024-10-02T21:30:10.300490Z",
     "iopub.status.idle": "2024-10-02T21:30:10.308313Z",
     "shell.execute_reply": "2024-10-02T21:30:10.307113Z"
    },
    "papermill": {
     "duration": 0.015187,
     "end_time": "2024-10-02T21:30:10.310756",
     "exception": false,
     "start_time": "2024-10-02T21:30:10.295569",
     "status": "completed"
    },
    "tags": []
   },
   "outputs": [
    {
     "data": {
      "text/plain": [
       "(188533, 12)"
      ]
     },
     "execution_count": 5,
     "metadata": {},
     "output_type": "execute_result"
    }
   ],
   "source": [
    "df.shape"
   ]
  },
  {
   "cell_type": "code",
   "execution_count": 6,
   "id": "d5b1c68f",
   "metadata": {
    "execution": {
     "iopub.execute_input": "2024-10-02T21:30:10.320311Z",
     "iopub.status.busy": "2024-10-02T21:30:10.319800Z",
     "iopub.status.idle": "2024-10-02T21:30:10.363292Z",
     "shell.execute_reply": "2024-10-02T21:30:10.362186Z"
    },
    "papermill": {
     "duration": 0.051188,
     "end_time": "2024-10-02T21:30:10.365825",
     "exception": false,
     "start_time": "2024-10-02T21:30:10.314637",
     "status": "completed"
    },
    "tags": []
   },
   "outputs": [
    {
     "data": {
      "text/html": [
       "<div>\n",
       "<style scoped>\n",
       "    .dataframe tbody tr th:only-of-type {\n",
       "        vertical-align: middle;\n",
       "    }\n",
       "\n",
       "    .dataframe tbody tr th {\n",
       "        vertical-align: top;\n",
       "    }\n",
       "\n",
       "    .dataframe thead th {\n",
       "        text-align: right;\n",
       "    }\n",
       "</style>\n",
       "<table border=\"1\" class=\"dataframe\">\n",
       "  <thead>\n",
       "    <tr style=\"text-align: right;\">\n",
       "      <th></th>\n",
       "      <th>model_year</th>\n",
       "      <th>milage</th>\n",
       "      <th>price</th>\n",
       "    </tr>\n",
       "  </thead>\n",
       "  <tbody>\n",
       "    <tr>\n",
       "      <th>count</th>\n",
       "      <td>188533.000000</td>\n",
       "      <td>188533.000000</td>\n",
       "      <td>1.885330e+05</td>\n",
       "    </tr>\n",
       "    <tr>\n",
       "      <th>mean</th>\n",
       "      <td>2015.829998</td>\n",
       "      <td>65705.295174</td>\n",
       "      <td>4.387802e+04</td>\n",
       "    </tr>\n",
       "    <tr>\n",
       "      <th>std</th>\n",
       "      <td>5.660967</td>\n",
       "      <td>49798.158076</td>\n",
       "      <td>7.881952e+04</td>\n",
       "    </tr>\n",
       "    <tr>\n",
       "      <th>min</th>\n",
       "      <td>1974.000000</td>\n",
       "      <td>100.000000</td>\n",
       "      <td>2.000000e+03</td>\n",
       "    </tr>\n",
       "    <tr>\n",
       "      <th>25%</th>\n",
       "      <td>2013.000000</td>\n",
       "      <td>24115.000000</td>\n",
       "      <td>1.700000e+04</td>\n",
       "    </tr>\n",
       "    <tr>\n",
       "      <th>50%</th>\n",
       "      <td>2017.000000</td>\n",
       "      <td>57785.000000</td>\n",
       "      <td>3.082500e+04</td>\n",
       "    </tr>\n",
       "    <tr>\n",
       "      <th>75%</th>\n",
       "      <td>2020.000000</td>\n",
       "      <td>95400.000000</td>\n",
       "      <td>4.990000e+04</td>\n",
       "    </tr>\n",
       "    <tr>\n",
       "      <th>max</th>\n",
       "      <td>2024.000000</td>\n",
       "      <td>405000.000000</td>\n",
       "      <td>2.954083e+06</td>\n",
       "    </tr>\n",
       "  </tbody>\n",
       "</table>\n",
       "</div>"
      ],
      "text/plain": [
       "          model_year         milage         price\n",
       "count  188533.000000  188533.000000  1.885330e+05\n",
       "mean     2015.829998   65705.295174  4.387802e+04\n",
       "std         5.660967   49798.158076  7.881952e+04\n",
       "min      1974.000000     100.000000  2.000000e+03\n",
       "25%      2013.000000   24115.000000  1.700000e+04\n",
       "50%      2017.000000   57785.000000  3.082500e+04\n",
       "75%      2020.000000   95400.000000  4.990000e+04\n",
       "max      2024.000000  405000.000000  2.954083e+06"
      ]
     },
     "execution_count": 6,
     "metadata": {},
     "output_type": "execute_result"
    }
   ],
   "source": [
    "df.describe()"
   ]
  },
  {
   "cell_type": "code",
   "execution_count": 7,
   "id": "7d72a8e3",
   "metadata": {
    "execution": {
     "iopub.execute_input": "2024-10-02T21:30:10.375747Z",
     "iopub.status.busy": "2024-10-02T21:30:10.375312Z",
     "iopub.status.idle": "2024-10-02T21:30:10.498719Z",
     "shell.execute_reply": "2024-10-02T21:30:10.497524Z"
    },
    "papermill": {
     "duration": 0.131326,
     "end_time": "2024-10-02T21:30:10.501338",
     "exception": false,
     "start_time": "2024-10-02T21:30:10.370012",
     "status": "completed"
    },
    "tags": []
   },
   "outputs": [
    {
     "data": {
      "text/plain": [
       "clean_title        1\n",
       "accident           2\n",
       "fuel_type          7\n",
       "model_year        34\n",
       "transmission      52\n",
       "brand             57\n",
       "int_col          156\n",
       "ext_col          319\n",
       "engine          1117\n",
       "price           1569\n",
       "model           1897\n",
       "milage          6651\n",
       "dtype: int64"
      ]
     },
     "execution_count": 7,
     "metadata": {},
     "output_type": "execute_result"
    }
   ],
   "source": [
    "df.nunique().sort_values() # the clean_title contain only a value through out the dataset."
   ]
  },
  {
   "cell_type": "code",
   "execution_count": 8,
   "id": "deb5de47",
   "metadata": {
    "execution": {
     "iopub.execute_input": "2024-10-02T21:30:10.511401Z",
     "iopub.status.busy": "2024-10-02T21:30:10.510962Z",
     "iopub.status.idle": "2024-10-02T21:30:10.515917Z",
     "shell.execute_reply": "2024-10-02T21:30:10.514916Z"
    },
    "papermill": {
     "duration": 0.012537,
     "end_time": "2024-10-02T21:30:10.518057",
     "exception": false,
     "start_time": "2024-10-02T21:30:10.505520",
     "status": "completed"
    },
    "tags": []
   },
   "outputs": [],
   "source": [
    "# Next, will be the exploration of the dataset, Visualization and Feature engineering."
   ]
  }
 ],
 "metadata": {
  "kaggle": {
   "accelerator": "none",
   "dataSources": [
    {
     "databundleVersionId": 9057646,
     "sourceId": 76728,
     "sourceType": "competition"
    }
   ],
   "dockerImageVersionId": 30775,
   "isGpuEnabled": false,
   "isInternetEnabled": true,
   "language": "python",
   "sourceType": "notebook"
  },
  "kernelspec": {
   "display_name": "Python 3",
   "language": "python",
   "name": "python3"
  },
  "language_info": {
   "codemirror_mode": {
    "name": "ipython",
    "version": 3
   },
   "file_extension": ".py",
   "mimetype": "text/x-python",
   "name": "python",
   "nbconvert_exporter": "python",
   "pygments_lexer": "ipython3",
   "version": "3.10.14"
  },
  "papermill": {
   "default_parameters": {},
   "duration": 11.580805,
   "end_time": "2024-10-02T21:30:11.444517",
   "environment_variables": {},
   "exception": null,
   "input_path": "__notebook__.ipynb",
   "output_path": "__notebook__.ipynb",
   "parameters": {},
   "start_time": "2024-10-02T21:29:59.863712",
   "version": "2.6.0"
  }
 },
 "nbformat": 4,
 "nbformat_minor": 5
}
